{
 "cells": [
  {
   "cell_type": "code",
   "execution_count": 2,
   "id": "26a06ff2",
   "metadata": {},
   "outputs": [],
   "source": [
    "import numpy as np\n",
    "import cv2 as cv"
   ]
  },
  {
   "cell_type": "code",
   "execution_count": 5,
   "id": "9b240e2d",
   "metadata": {},
   "outputs": [
    {
     "data": {
      "text/plain": [
       "False"
      ]
     },
     "execution_count": 5,
     "metadata": {},
     "output_type": "execute_result"
    }
   ],
   "source": [
    "cap = cv.VideoCapture('igvc.mp4')\n",
    "while cap.isOpened():\n",
    "    ret, frame = cap.read()\n",
    "    # if frame is read correctly ret is True\n",
    "    if not ret:\n",
    "        print(\"Can't receive frame (stream end?). Exiting ...\")\n",
    "        break\n",
    "    gray = cv.cvtColor(frame, cv.COLOR_BGR2GRAY)\n",
    "    \n",
    "    blue = frame.copy()\n",
    "    red = frame.copy()\n",
    "    blue[:,:,1] = 0\n",
    "    blue[:,:,2] = 0\n",
    "    red[:,:,0] = 0\n",
    "    red[:,:,1] = 0\n",
    "    blue_blur = cv.GaussianBlur(blue,(5,5),0)\n",
    "    red_blur = cv.GaussianBlur(red,(3,3),0)\n",
    "    ret,thresh_red = cv.threshold(red_blur,127,255,cv.THRESH_BINARY)\n",
    "    ret2,thresh_blue = cv.threshold(blue_blur,120,255,cv.THRESH_BINARY)\n",
    "    blue_dilation = cv.dilate(thresh_blue,(5,5),iterations = 1)\n",
    "    edges = cv.Canny( blue_dilation,0,200)\n",
    "    #edges = np.int8(edges)\n",
    "    edges = edges.astype(np.uint8)\n",
    "    cv.imshow('frame', frame)\n",
    "    cv.imshow('threshold_Red', thresh_red)\n",
    "    cv.imshow('threshold_blue', thresh_blue)\n",
    "    cv.imshow('dilation_red', edges) \n",
    "    lines = cv.HoughLinesP(edges,1,np.pi/180,15,minLineLength=20,maxLineGap=20)\n",
    "    for line in lines:\n",
    "        for x1,y1,x2,y2 in line:\n",
    "            cv.line(frame,(x1,y1),(x2,y2),(255,0,0),3)\n",
    "    lines_edges = cv.addWeighted(frame, 0.8, frame, 1, 0)\n",
    "    cv.imshow(\"Lane\",lines_edges)\n",
    "    if cv.waitKey(3) == ord('q'):\n",
    "        break\n",
    "cap.release()\n",
    "cv.destroyAllWindows()\n",
    "\n",
    "cap.isOpened()"
   ]
  },
  {
   "cell_type": "code",
   "execution_count": 4,
   "id": "a4488927",
   "metadata": {},
   "outputs": [
    {
     "name": "stdout",
     "output_type": "stream",
     "text": [
      "Can't receive frame (stream end?). Exiting ...\n"
     ]
    },
    {
     "data": {
      "text/plain": [
       "False"
      ]
     },
     "execution_count": 4,
     "metadata": {},
     "output_type": "execute_result"
    }
   ],
   "source": [
    "cap = cv.VideoCapture('lane_vgt.mp4')\n",
    "def ROI(frame,vertices) :\n",
    "    mask=np.zeros_like(frame)\n",
    "        \n",
    "    match_mask_color=(255,)\n",
    "    cv.fillPoly(mask,vertices,match_mask_color)\n",
    "    masked=cv.bitwise_and(frame,mask)\n",
    "    return masked\n",
    "while cap.isOpened():\n",
    "    ret, frame = cap.read()\n",
    "    # if frame is read correctly ret is True\n",
    "    if not ret:\n",
    "        print(\"Can't receive frame (stream end?). Exiting ...\")\n",
    "        break\n",
    "    gray = cv.cvtColor(frame, cv.COLOR_BGR2GRAY)\n",
    "    height=frame.shape[0]\n",
    "    width=frame.shape[1]\n",
    "    blue = frame.copy()\n",
    "    red = frame.copy()\n",
    "    blue[:,:,1] = 0\n",
    "    blue[:,:,2] = 0\n",
    "    red[:,:,0] = 0\n",
    "    red[:,:,1] = 0\n",
    "    blue_blur = cv.GaussianBlur(blue,(5,5),0)\n",
    "    red_blur = cv.GaussianBlur(red,(3,3),0)\n",
    "    ret,thresh_red = cv.threshold(red_blur,127,255,cv.THRESH_BINARY)\n",
    "    ret2,thresh_blue = cv.threshold(blue_blur,120,255,cv.THRESH_BINARY)\n",
    "    blue_dilation = cv.dilate(thresh_blue,(5,5),iterations = 1)\n",
    "    edges = cv.Canny( blue_dilation,0,200)\n",
    "    #edges = np.int8(edges)\n",
    "    edges = edges.astype(np.uint8)\n",
    "    ROI_vertices=[(0,height),(width,height),(width,height-300),(0,height-300)]\n",
    "    ROI_image=ROI(edges,np.array([ROI_vertices],np.int32))\n",
    "\n",
    "    cv.imshow('frame', frame)\n",
    "    cv.imshow('threshold_Red', thresh_red)\n",
    "    cv.imshow('threshold_blue', thresh_blue)\n",
    "    cv.imshow('dilation_red', edges) \n",
    "    lines = cv.HoughLinesP( ROI_image,1,np.pi/180,15,minLineLength=20,maxLineGap=20)\n",
    "    for line in lines:\n",
    "        for x1,y1,x2,y2 in line:\n",
    "            cv.line(frame,(x1,y1),(x2,y2),(255,0,0),3)\n",
    "    lines_edges = cv.addWeighted(frame, 0.8, frame, 1, 0)\n",
    "    cv.imshow(\"Lane\",lines_edges)\n",
    "    if cv.waitKey(3) == ord('q'):\n",
    "        break\n",
    "cap.release()\n",
    "cv.destroyAllWindows()\n",
    "\n",
    "cap.isOpened()"
   ]
  },
  {
   "cell_type": "code",
   "execution_count": 7,
   "id": "d120b56a",
   "metadata": {},
   "outputs": [],
   "source": []
  },
  {
   "cell_type": "code",
   "execution_count": null,
   "id": "fb9f93fe",
   "metadata": {},
   "outputs": [],
   "source": []
  }
 ],
 "metadata": {
  "kernelspec": {
   "display_name": "Python 3",
   "language": "python",
   "name": "python3"
  },
  "language_info": {
   "codemirror_mode": {
    "name": "ipython",
    "version": 3
   },
   "file_extension": ".py",
   "mimetype": "text/x-python",
   "name": "python",
   "nbconvert_exporter": "python",
   "pygments_lexer": "ipython3",
   "version": "3.8.10"
  }
 },
 "nbformat": 4,
 "nbformat_minor": 5
}

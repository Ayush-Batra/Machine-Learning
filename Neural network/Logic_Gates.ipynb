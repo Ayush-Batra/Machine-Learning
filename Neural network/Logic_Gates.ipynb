{
 "cells": [
  {
   "cell_type": "code",
   "execution_count": 28,
   "id": "4a6031f1",
   "metadata": {},
   "outputs": [],
   "source": [
    "import numpy as np\n",
    "from matplotlib import pyplot as plt"
   ]
  },
  {
   "cell_type": "code",
   "execution_count": 29,
   "id": "81d5b8d0",
   "metadata": {},
   "outputs": [],
   "source": [
    "def sigmoid(x):\n",
    "    return (1/(1+np.exp(-x)))"
   ]
  },
  {
   "cell_type": "code",
   "execution_count": 30,
   "id": "ee8ac09c",
   "metadata": {},
   "outputs": [],
   "source": [
    "def initialize_parameter(input_size, hidden_size, output_size):\n",
    "    W1 = np.random.randn(hidden_size, input_size)\n",
    "    W2 = np.random.randn(output_size, hidden_size)\n",
    "    b1 = np.zeros((hidden_size, 1))\n",
    "    b2 = np.zeros((output_size, 1)) \n",
    "    parameters = {\"W1\" : W1, \"b1\": b1,\n",
    "                  \"W2\" : W2, \"b2\": b2}\n",
    "    return parameters"
   ]
  },
  {
   "cell_type": "code",
   "execution_count": 31,
   "id": "c50dd5be",
   "metadata": {},
   "outputs": [],
   "source": [
    "def forward_propogation(X,Y,parameters):\n",
    "    m = X.shape[1]\n",
    "    W1 = parameters[\"W1\"]\n",
    "    b1 = parameters[\"b1\"]\n",
    "    W2 = parameters[\"W2\"]\n",
    "    b2 = parameters[\"b2\"]\n",
    "    Z1 = np.dot(W1,X) + b1\n",
    "    A1 = sigmoid(Z1)\n",
    "    Z2 = np.dot(W2,A1) + b2\n",
    "    A2 = sigmoid(Z2)\n",
    "    cache = (Z1, A1, W1, b1, Z2, A2, W2, b2)\n",
    "    loss_function = np.multiply(np.log(A2), Y) + np.multiply(np.log(1 - A2), (1 - Y))\n",
    "    cost_function = -np.sum(loss_function)/m\n",
    "    return cost_function, cache, A1,A2"
   ]
  },
  {
   "cell_type": "code",
   "execution_count": 32,
   "id": "4842cd60",
   "metadata": {},
   "outputs": [],
   "source": [
    "def back_propogation(X,Y,cache):\n",
    "    m = X.shape[1]\n",
    "    (Z1, A1, W1, b1, Z2, A2, W2, b2) = cache\n",
    "    dZ2 = A2 - Y\n",
    "    dW2 = np.dot(dZ2, A1.T) / m\n",
    "    db2 = np.sum(dZ2, axis = 1, keepdims = True)\n",
    "    dA1 = np.dot(W2.T, dZ2)\n",
    "    dZ1 = np.multiply(dA1, A1 * (1- A1))\n",
    "    dW1 = np.dot(dZ1, X.T) / m\n",
    "    db1 = np.sum(dZ1, axis = 1, keepdims = True) / m\n",
    "      \n",
    "    gradients = {\"dZ2\": dZ2, \"dW2\": dW2, \"db2\": db2,\n",
    "                 \"dZ1\": dZ1, \"dW1\": dW1, \"db1\": db1}\n",
    "    return gradients"
   ]
  },
  {
   "cell_type": "code",
   "execution_count": 33,
   "id": "2f1375e2",
   "metadata": {},
   "outputs": [],
   "source": [
    "def update_parameters(parameters, gradients, learningRate):\n",
    "    parameters[\"W1\"] = parameters[\"W1\"] - learningRate * gradients[\"dW1\"]\n",
    "    parameters[\"W2\"] = parameters[\"W2\"] - learningRate * gradients[\"dW2\"]\n",
    "    parameters[\"b1\"] = parameters[\"b1\"] - learningRate * gradients[\"db1\"]\n",
    "    parameters[\"b2\"] = parameters[\"b2\"] - learningRate * gradients[\"db2\"]\n",
    "    return parameters"
   ]
  },
  {
   "cell_type": "code",
   "execution_count": 34,
   "id": "aec74e04",
   "metadata": {},
   "outputs": [],
   "source": [
    "X = np.array([[0, 0, 1, 1], [0, 1, 0, 1]]) # OR input\n",
    "Y = np.array([[0, 1, 1, 1]])"
   ]
  },
  {
   "cell_type": "code",
   "execution_count": 35,
   "id": "4a1db219",
   "metadata": {},
   "outputs": [],
   "source": [
    "hidden_size = 2 # number of hidden layer neurons (2)\n",
    "input_size = X.shape[0] # number of input features (2)\n",
    "output_size = Y.shape[0] # number of output features (1)\n",
    "parameters = initialize_parameter(input_size, hidden_size, output_size)\n",
    "epoch = 100000\n",
    "learningRate = 0.01\n",
    "losses = np.zeros((epoch, 1))"
   ]
  },
  {
   "cell_type": "code",
   "execution_count": 36,
   "id": "17f942b4",
   "metadata": {},
   "outputs": [],
   "source": [
    "for i in range(epoch):\n",
    "    losses[i, 0], cache, A1, A2 = forward_propogation(X, Y, parameters)\n",
    "    gradients = back_propogation(X, Y, cache)\n",
    "    parameters = update_parameters(parameters, gradients, learningRate)"
   ]
  },
  {
   "cell_type": "code",
   "execution_count": 37,
   "id": "5f62c9ff",
   "metadata": {},
   "outputs": [
    {
     "data": {
      "image/png": "[encoded data removed]",
      "text/plain": [
       "<Figure size 432x288 with 1 Axes>"
      ]
     },
     "metadata": {
      "needs_background": "light"
     },
     "output_type": "display_data"
    }
   ],
   "source": [
    "plt.figure()\n",
    "plt.plot(losses)\n",
    "plt.xlabel(\"EPOCHS\")\n",
    "plt.ylabel(\"Loss value\")\n",
    "plt.show()"
   ]
  },
  {
   "cell_type": "code",
   "execution_count": 44,
   "id": "1c7dce30",
   "metadata": {},
   "outputs": [
    {
     "name": "stdout",
     "output_type": "stream",
     "text": [
      "A1--> [[0.16834374 0.85453631 0.16834374 0.85453631]\n",
      " [0.89551336 0.08509009 0.89551336 0.08509009]]\n",
      "A2 --> [[0.00574396 0.99733087 0.00574396 0.99733087]]\n",
      "prediction --> [[0 1 0 1]]\n"
     ]
    }
   ],
   "source": [
    "X = np.array([[0, 0, 0, 0], [0, 1, 0, 1]]) # OR input\n",
    "cost,val, A1,A2 = forward_propogation(X, Y, parameters)\n",
    "prediction = (A2>0.5)*1\n",
    "print(\"A1-->\", A1)\n",
    "print(\"A2 -->\", A2)\n",
    "print(\"prediction -->\", prediction)"
   ]
  },
  {
   "cell_type": "code",
   "execution_count": null,
   "id": "ec614613",
   "metadata": {},
   "outputs": [],
   "source": []
  }
 ],
 "metadata": {
  "kernelspec": {
   "display_name": "Python 3",
   "language": "python",
   "name": "python3"
  },
  "language_info": {
   "codemirror_mode": {
    "name": "ipython",
    "version": 3
   },
   "file_extension": ".py",
   "mimetype": "text/x-python",
   "name": "python",
   "nbconvert_exporter": "python",
   "pygments_lexer": "ipython3",
   "version": "3.8.10"
  }
 },
 "nbformat": 4,
 "nbformat_minor": 5
}

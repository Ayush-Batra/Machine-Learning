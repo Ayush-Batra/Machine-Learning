{
 "cells": [
  {
   "cell_type": "code",
   "execution_count": 19,
   "id": "d2fd04d6",
   "metadata": {},
   "outputs": [],
   "source": [
    "import keras\n",
    "from keras.datasets import mnist\n",
    "from keras.models import Sequential\n",
    "from keras.layers import Dense, Dropout, Flatten\n",
    "from keras.layers import Conv2D, MaxPooling2D\n",
    "import numpy as np\n",
    "from keras.utils import np_utils"
   ]
  },
  {
   "cell_type": "code",
   "execution_count": 20,
   "id": "d885e175",
   "metadata": {},
   "outputs": [
    {
     "name": "stdout",
     "output_type": "stream",
     "text": [
      "x_train shape: (60000, 28, 28, 1)\n",
      "60000 train samples\n",
      "10000 test samples\n"
     ]
    }
   ],
   "source": [
    "batch_size = 128\n",
    "num_classes = 10\n",
    "epochs = 12\n",
    "\n",
    "# input image dimensions\n",
    "img_rows, img_cols = 28, 28\n",
    "\n",
    "# the data, split between train and test sets\n",
    "(x_train, y_train), (x_test, y_test) = mnist.load_data()\n",
    "\n",
    "x_train = x_train.reshape(60000,28,28,1)\n",
    "x_test = x_test.reshape(10000,28,28,1)\n",
    "\n",
    "print('x_train shape:', x_train.shape)\n",
    "print(x_train.shape[0], 'train samples')\n",
    "print(x_test.shape[0], 'test samples')\n",
    "\n",
    "# convert class vectors to binary class matrices\n",
    "y_train = keras.utils.np_utils.to_categorical(y_train, num_classes)\n",
    "y_test = keras.utils.np_utils.to_categorical(y_test, num_classes)"
   ]
  },
  {
   "cell_type": "code",
   "execution_count": 21,
   "id": "631ec12e",
   "metadata": {},
   "outputs": [],
   "source": [
    "model = Sequential()\n",
    "model.add(Conv2D(32, kernel_size=(3, 3),\n",
    "                 activation='relu',\n",
    "                 input_shape=(28,28,1)))\n",
    "model.add(Conv2D(64, (3, 3), activation='relu'))\n",
    "model.add(MaxPooling2D(pool_size=(2, 2)))\n",
    "model.add(Dropout(0.25))\n",
    "model.add(Flatten())\n",
    "model.add(Dense(128, activation='relu'))\n",
    "model.add(Dropout(0.5))\n",
    "model.add(Dense(num_classes, activation='softmax'))"
   ]
  },
  {
   "cell_type": "code",
   "execution_count": 30,
   "id": "a407f221",
   "metadata": {},
   "outputs": [
    {
     "name": "stdout",
     "output_type": "stream",
     "text": [
      "Epoch 1/12\n",
      "469/469 [==============================] - 48s 101ms/step - loss: 0.2002 - accuracy: 0.9439 - val_loss: 0.0905 - val_accuracy: 0.9705\n",
      "Epoch 2/12\n",
      "469/469 [==============================] - 52s 110ms/step - loss: 0.1851 - accuracy: 0.9471 - val_loss: 0.0875 - val_accuracy: 0.9709\n",
      "Epoch 3/12\n",
      "469/469 [==============================] - 52s 110ms/step - loss: 0.1837 - accuracy: 0.9488 - val_loss: 0.0855 - val_accuracy: 0.9716\n",
      "Epoch 4/12\n",
      "469/469 [==============================] - 52s 110ms/step - loss: 0.1839 - accuracy: 0.9479 - val_loss: 0.0839 - val_accuracy: 0.9730\n",
      "Epoch 5/12\n",
      "469/469 [==============================] - 51s 109ms/step - loss: 0.1815 - accuracy: 0.9492 - val_loss: 0.0826 - val_accuracy: 0.9733\n",
      "Epoch 6/12\n",
      "469/469 [==============================] - 52s 110ms/step - loss: 0.1778 - accuracy: 0.9486 - val_loss: 0.0815 - val_accuracy: 0.9736\n",
      "Epoch 7/12\n",
      "469/469 [==============================] - 52s 110ms/step - loss: 0.1717 - accuracy: 0.9517 - val_loss: 0.0807 - val_accuracy: 0.9742\n",
      "Epoch 8/12\n",
      "469/469 [==============================] - 52s 110ms/step - loss: 0.1650 - accuracy: 0.9517 - val_loss: 0.0799 - val_accuracy: 0.9739\n",
      "Epoch 9/12\n",
      "469/469 [==============================] - 51s 110ms/step - loss: 0.1652 - accuracy: 0.9538 - val_loss: 0.0791 - val_accuracy: 0.9740\n",
      "Epoch 10/12\n",
      "469/469 [==============================] - 52s 110ms/step - loss: 0.1647 - accuracy: 0.9519 - val_loss: 0.0785 - val_accuracy: 0.9743\n",
      "Epoch 11/12\n",
      "469/469 [==============================] - 52s 110ms/step - loss: 0.1655 - accuracy: 0.9523 - val_loss: 0.0778 - val_accuracy: 0.9746\n",
      "Epoch 12/12\n",
      "469/469 [==============================] - 52s 110ms/step - loss: 0.1634 - accuracy: 0.9546 - val_loss: 0.0773 - val_accuracy: 0.9747\n",
      "Test loss: 0.07729696482419968\n",
      "Test accuracy: 0.9746999740600586\n"
     ]
    }
   ],
   "source": [
    "model.compile(loss=keras.losses.categorical_crossentropy,\n",
    "              optimizer='Adadelta', metrics=['accuracy'])\n",
    "\n",
    "model.fit(x_train, y_train,\n",
    "          batch_size=batch_size,\n",
    "          epochs=epochs,\n",
    "          verbose=1,\n",
    "          validation_data=(x_test, y_test))\n",
    "score = model.evaluate(x_test, y_test, verbose=0)\n",
    "print('Test loss:', score[0])\n",
    "print('Test accuracy:', score[1])"
   ]
  },
  {
   "cell_type": "code",
   "execution_count": null,
   "id": "fec72565",
   "metadata": {},
   "outputs": [],
   "source": []
  },
  {
   "cell_type": "code",
   "execution_count": null,
   "id": "ec3041ce",
   "metadata": {},
   "outputs": [],
   "source": []
  }
 ],
 "metadata": {
  "kernelspec": {
   "display_name": "Python 3",
   "language": "python",
   "name": "python3"
  },
  "language_info": {
   "codemirror_mode": {
    "name": "ipython",
    "version": 3
   },
   "file_extension": ".py",
   "mimetype": "text/x-python",
   "name": "python",
   "nbconvert_exporter": "python",
   "pygments_lexer": "ipython3",
   "version": "3.8.5"
  }
 },
 "nbformat": 4,
 "nbformat_minor": 5
}

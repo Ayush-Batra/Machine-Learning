{
 "cells": [
  {
   "cell_type": "code",
   "execution_count": 41,
   "id": "ac723b95",
   "metadata": {},
   "outputs": [],
   "source": [
    "import numpy as  np\n",
    "import pandas as pd\n",
    "import seaborn as sns\n",
    "import matplotlib.pyplot as plt\n",
    "from sklearn import tree\n",
    "from sklearn.model_selection import train_test_split\n",
    "from sklearn.preprocessing import OrdinalEncoder\n",
    "from sklearn.tree import DecisionTreeClassifier\n",
    "from sklearn.linear_model import LogisticRegression\n",
    "from sklearn.metrics import accuracy_score"
   ]
  },
  {
   "cell_type": "code",
   "execution_count": 37,
   "id": "f0466030",
   "metadata": {},
   "outputs": [
    {
     "data": {
      "text/plain": [
       "['BaseDecisionTree',\n",
       " 'DecisionTreeClassifier',\n",
       " 'DecisionTreeRegressor',\n",
       " 'ExtraTreeClassifier',\n",
       " 'ExtraTreeRegressor',\n",
       " '__all__',\n",
       " '__builtins__',\n",
       " '__cached__',\n",
       " '__doc__',\n",
       " '__file__',\n",
       " '__loader__',\n",
       " '__name__',\n",
       " '__package__',\n",
       " '__path__',\n",
       " '__spec__',\n",
       " '_classes',\n",
       " '_criterion',\n",
       " '_export',\n",
       " '_reingold_tilford',\n",
       " '_splitter',\n",
       " '_tree',\n",
       " '_utils',\n",
       " 'export_graphviz',\n",
       " 'export_text',\n",
       " 'plot_tree']"
      ]
     },
     "execution_count": 37,
     "metadata": {},
     "output_type": "execute_result"
    }
   ],
   "source": [
    "dir(tree)"
   ]
  },
  {
   "cell_type": "code",
   "execution_count": 14,
   "id": "0a276a17",
   "metadata": {},
   "outputs": [],
   "source": [
    "df = pd.read_csv(\"/home/ayush/Downloads/car_evaluation.csv\")"
   ]
  },
  {
   "cell_type": "code",
   "execution_count": 15,
   "id": "7eccf2cb",
   "metadata": {},
   "outputs": [
    {
     "name": "stdout",
     "output_type": "stream",
     "text": [
      "<class 'pandas.core.frame.DataFrame'>\n",
      "RangeIndex: 1728 entries, 0 to 1727\n",
      "Data columns (total 7 columns):\n",
      " #   Column            Non-Null Count  Dtype \n",
      "---  ------            --------------  ----- \n",
      " 0   buying price      1728 non-null   object\n",
      " 1   maintenance cost  1728 non-null   object\n",
      " 2   number of doors   1728 non-null   object\n",
      " 3   number of person  1728 non-null   object\n",
      " 4   lug_boot          1728 non-null   object\n",
      " 5   safety            1728 non-null   object\n",
      " 6   decision          1728 non-null   object\n",
      "dtypes: object(7)\n",
      "memory usage: 94.6+ KB\n"
     ]
    }
   ],
   "source": [
    "df.info()"
   ]
  },
  {
   "cell_type": "code",
   "execution_count": 16,
   "id": "2f681f4c",
   "metadata": {},
   "outputs": [
    {
     "data": {
      "text/html": [
       "<div>\n",
       "<style scoped>\n",
       "    .dataframe tbody tr th:only-of-type {\n",
       "        vertical-align: middle;\n",
       "    }\n",
       "\n",
       "    .dataframe tbody tr th {\n",
       "        vertical-align: top;\n",
       "    }\n",
       "\n",
       "    .dataframe thead th {\n",
       "        text-align: right;\n",
       "    }\n",
       "</style>\n",
       "<table border=\"1\" class=\"dataframe\">\n",
       "  <thead>\n",
       "    <tr style=\"text-align: right;\">\n",
       "      <th></th>\n",
       "      <th>buying price</th>\n",
       "      <th>maintenance cost</th>\n",
       "      <th>number of doors</th>\n",
       "      <th>number of person</th>\n",
       "      <th>lug_boot</th>\n",
       "      <th>safety</th>\n",
       "      <th>decision</th>\n",
       "    </tr>\n",
       "  </thead>\n",
       "  <tbody>\n",
       "    <tr>\n",
       "      <th>0</th>\n",
       "      <td>vhigh</td>\n",
       "      <td>vhigh</td>\n",
       "      <td>2</td>\n",
       "      <td>2</td>\n",
       "      <td>small</td>\n",
       "      <td>low</td>\n",
       "      <td>unacc</td>\n",
       "    </tr>\n",
       "    <tr>\n",
       "      <th>1</th>\n",
       "      <td>vhigh</td>\n",
       "      <td>vhigh</td>\n",
       "      <td>2</td>\n",
       "      <td>2</td>\n",
       "      <td>small</td>\n",
       "      <td>med</td>\n",
       "      <td>unacc</td>\n",
       "    </tr>\n",
       "    <tr>\n",
       "      <th>2</th>\n",
       "      <td>vhigh</td>\n",
       "      <td>vhigh</td>\n",
       "      <td>2</td>\n",
       "      <td>2</td>\n",
       "      <td>small</td>\n",
       "      <td>high</td>\n",
       "      <td>unacc</td>\n",
       "    </tr>\n",
       "    <tr>\n",
       "      <th>3</th>\n",
       "      <td>vhigh</td>\n",
       "      <td>vhigh</td>\n",
       "      <td>2</td>\n",
       "      <td>2</td>\n",
       "      <td>med</td>\n",
       "      <td>low</td>\n",
       "      <td>unacc</td>\n",
       "    </tr>\n",
       "    <tr>\n",
       "      <th>4</th>\n",
       "      <td>vhigh</td>\n",
       "      <td>vhigh</td>\n",
       "      <td>2</td>\n",
       "      <td>2</td>\n",
       "      <td>med</td>\n",
       "      <td>med</td>\n",
       "      <td>unacc</td>\n",
       "    </tr>\n",
       "  </tbody>\n",
       "</table>\n",
       "</div>"
      ],
      "text/plain": [
       "  buying price maintenance cost number of doors number of person lug_boot  \\\n",
       "0        vhigh            vhigh               2                2    small   \n",
       "1        vhigh            vhigh               2                2    small   \n",
       "2        vhigh            vhigh               2                2    small   \n",
       "3        vhigh            vhigh               2                2      med   \n",
       "4        vhigh            vhigh               2                2      med   \n",
       "\n",
       "  safety decision  \n",
       "0    low    unacc  \n",
       "1    med    unacc  \n",
       "2   high    unacc  \n",
       "3    low    unacc  \n",
       "4    med    unacc  "
      ]
     },
     "execution_count": 16,
     "metadata": {},
     "output_type": "execute_result"
    }
   ],
   "source": [
    "df.head()"
   ]
  },
  {
   "cell_type": "code",
   "execution_count": 17,
   "id": "f320a0c8",
   "metadata": {},
   "outputs": [
    {
     "name": "stdout",
     "output_type": "stream",
     "text": [
      "high     432\n",
      "low      432\n",
      "vhigh    432\n",
      "med      432\n",
      "Name: buying price, dtype: int64\n",
      "high     432\n",
      "low      432\n",
      "vhigh    432\n",
      "med      432\n",
      "Name: maintenance cost, dtype: int64\n",
      "3        432\n",
      "4        432\n",
      "2        432\n",
      "5more    432\n",
      "Name: number of doors, dtype: int64\n",
      "4       576\n",
      "2       576\n",
      "more    576\n",
      "Name: number of person, dtype: int64\n",
      "small    576\n",
      "big      576\n",
      "med      576\n",
      "Name: lug_boot, dtype: int64\n",
      "high    576\n",
      "low     576\n",
      "med     576\n",
      "Name: safety, dtype: int64\n",
      "unacc    1210\n",
      "acc       384\n",
      "good       69\n",
      "vgood      65\n",
      "Name: decision, dtype: int64\n"
     ]
    }
   ],
   "source": [
    "for col in df.columns:\n",
    "    item_counts = df[col].value_counts()\n",
    "    print(item_counts)"
   ]
  },
  {
   "cell_type": "code",
   "execution_count": 18,
   "id": "36ea5b81",
   "metadata": {},
   "outputs": [
    {
     "name": "stdout",
     "output_type": "stream",
     "text": [
      "buying price --> False\n",
      "maintenance cost --> False\n",
      "number of doors --> False\n",
      "number of person --> False\n",
      "lug_boot --> False\n",
      "safety --> False\n",
      "decision --> False\n"
     ]
    }
   ],
   "source": [
    "for col in df.columns:\n",
    "    print(col, \"-->\",df[col].isnull().any())"
   ]
  },
  {
   "cell_type": "code",
   "execution_count": 19,
   "id": "5061c5e0",
   "metadata": {},
   "outputs": [],
   "source": [
    "x= df.drop(['decision'], axis=1)\n",
    "y = df['decision']"
   ]
  },
  {
   "cell_type": "code",
   "execution_count": 20,
   "id": "dd211d98",
   "metadata": {},
   "outputs": [],
   "source": [
    "x_train, x_test, y_train, y_test = train_test_split(x, y, test_size = 0.33, random_state = 42)"
   ]
  },
  {
   "cell_type": "code",
   "execution_count": 23,
   "id": "71468575",
   "metadata": {},
   "outputs": [
    {
     "data": {
      "text/plain": [
       "['__class__',\n",
       " '__delattr__',\n",
       " '__dict__',\n",
       " '__dir__',\n",
       " '__doc__',\n",
       " '__eq__',\n",
       " '__format__',\n",
       " '__ge__',\n",
       " '__getattribute__',\n",
       " '__getstate__',\n",
       " '__gt__',\n",
       " '__hash__',\n",
       " '__init__',\n",
       " '__init_subclass__',\n",
       " '__le__',\n",
       " '__lt__',\n",
       " '__module__',\n",
       " '__ne__',\n",
       " '__new__',\n",
       " '__reduce__',\n",
       " '__reduce_ex__',\n",
       " '__repr__',\n",
       " '__setattr__',\n",
       " '__setstate__',\n",
       " '__sizeof__',\n",
       " '__str__',\n",
       " '__subclasshook__',\n",
       " '__weakref__',\n",
       " '_check_X',\n",
       " '_check_n_features',\n",
       " '_fit',\n",
       " '_get_feature',\n",
       " '_get_param_names',\n",
       " '_get_tags',\n",
       " '_more_tags',\n",
       " '_repr_html_',\n",
       " '_repr_html_inner',\n",
       " '_repr_mimebundle_',\n",
       " '_transform',\n",
       " '_validate_data',\n",
       " 'fit',\n",
       " 'fit_transform',\n",
       " 'get_params',\n",
       " 'inverse_transform',\n",
       " 'set_params',\n",
       " 'transform']"
      ]
     },
     "execution_count": 23,
     "metadata": {},
     "output_type": "execute_result"
    }
   ],
   "source": [
    "dir(OrdinalEncoder)"
   ]
  },
  {
   "cell_type": "code",
   "execution_count": 26,
   "id": "7de20683",
   "metadata": {},
   "outputs": [],
   "source": [
    "encoder = OrdinalEncoder()"
   ]
  },
  {
   "cell_type": "code",
   "execution_count": 28,
   "id": "f63c1198",
   "metadata": {},
   "outputs": [],
   "source": [
    "x_train = encoder.fit_transform(x_train)\n",
    "x_test = encoder.transform(x_test)"
   ]
  },
  {
   "cell_type": "code",
   "execution_count": 34,
   "id": "1b8a75eb",
   "metadata": {},
   "outputs": [
    {
     "data": {
      "text/plain": [
       "array([[3., 3., 1., 2., 1., 1.],\n",
       "       [0., 3., 1., 1., 2., 1.],\n",
       "       [3., 0., 1., 2., 2., 0.],\n",
       "       ...,\n",
       "       [0., 1., 3., 2., 1., 0.],\n",
       "       [1., 0., 2., 0., 2., 2.],\n",
       "       [2., 2., 1., 2., 2., 2.]])"
      ]
     },
     "execution_count": 34,
     "metadata": {},
     "output_type": "execute_result"
    }
   ],
   "source": [
    "x_train"
   ]
  },
  {
   "cell_type": "code",
   "execution_count": 35,
   "id": "922e2e3e",
   "metadata": {},
   "outputs": [
    {
     "data": {
      "text/plain": [
       "array([[0., 0., 2., 0., 1., 0.],\n",
       "       [2., 1., 0., 1., 1., 2.],\n",
       "       [0., 0., 3., 0., 0., 2.],\n",
       "       ...,\n",
       "       [3., 0., 1., 1., 1., 1.],\n",
       "       [3., 1., 1., 1., 2., 1.],\n",
       "       [3., 3., 3., 0., 2., 0.]])"
      ]
     },
     "execution_count": 35,
     "metadata": {},
     "output_type": "execute_result"
    }
   ],
   "source": [
    "x_test"
   ]
  },
  {
   "cell_type": "code",
   "execution_count": 113,
   "id": "0cebd593",
   "metadata": {},
   "outputs": [
    {
     "data": {
      "text/plain": [
       "LogisticRegression(random_state=0)"
      ]
     },
     "execution_count": 113,
     "metadata": {},
     "output_type": "execute_result"
    }
   ],
   "source": [
    "model_1 = DecisionTreeClassifier(criterion='gini', max_depth=10, random_state=0)\n",
    "model_1.fit(x_train, y_train)\n",
    "model_2 = LogisticRegression(random_state=0)\n",
    "model_2.fit(x_train, y_train)"
   ]
  },
  {
   "cell_type": "code",
   "execution_count": 114,
   "id": "3c69cc53",
   "metadata": {},
   "outputs": [],
   "source": [
    "y_model_1 = model_1.predict(x_test)\n",
    "y_model_2 = model_2.predict(x_test)"
   ]
  },
  {
   "cell_type": "code",
   "execution_count": 115,
   "id": "a3d9a31a",
   "metadata": {},
   "outputs": [
    {
     "name": "stdout",
     "output_type": "stream",
     "text": [
      "Model accuracy score with Decision trees: 0.9615\n",
      "Model accuracy score with Logistic regression: 0.6673\n"
     ]
    }
   ],
   "source": [
    "print('Model accuracy score with Decision trees: {0:0.4f}'. format(accuracy_score(y_test, y_model_1)))\n",
    "print('Model accuracy score with Logistic regression: {0:0.4f}'. format(accuracy_score(y_test, y_model_2)))"
   ]
  },
  {
   "cell_type": "code",
   "execution_count": 116,
   "id": "d4a5699f",
   "metadata": {},
   "outputs": [],
   "source": [
    "y_train_1 = model_1.predict(x_train)\n",
    "y_train_2 = model_2.predict(x_train)"
   ]
  },
  {
   "cell_type": "code",
   "execution_count": 117,
   "id": "01a422af",
   "metadata": {},
   "outputs": [
    {
     "name": "stdout",
     "output_type": "stream",
     "text": [
      "Model accuracy score with Decision trees: 0.9931\n",
      "Model accuracy score with Logistic regression: 0.7070\n"
     ]
    }
   ],
   "source": [
    "#TO check overfitting\n",
    "print('Model accuracy score with Decision trees: {0:0.4f}'. format(accuracy_score(y_train, y_train_1)))\n",
    "print('Model accuracy score with Logistic regression: {0:0.4f}'. format(accuracy_score(y_train, y_train_2)))"
   ]
  },
  {
   "cell_type": "code",
   "execution_count": 118,
   "id": "3f2704e7",
   "metadata": {},
   "outputs": [
    {
     "data": {
      "text/plain": [
       "[Text(364.5267857142857, 415.1127272727273, 'X[3] <= 0.5\\ngini = 0.455\\nsamples = 1157\\nvalue = [255, 49, 813, 40]'),\n",
       " Text(353.8982142857143, 375.5781818181818, 'gini = 0.0\\nsamples = 375\\nvalue = [0, 0, 375, 0]'),\n",
       " Text(375.1553571428571, 375.5781818181818, 'X[5] <= 0.5\\ngini = 0.573\\nsamples = 782\\nvalue = [255, 49, 438, 40]'),\n",
       " Text(207.25714285714284, 336.0436363636364, 'X[1] <= 2.5\\ngini = 0.634\\nsamples = 263\\nvalue = [139, 21, 63, 40]'),\n",
       " Text(116.91428571428571, 296.5090909090909, 'X[0] <= 0.5\\ngini = 0.619\\nsamples = 194\\nvalue = [108, 21, 25, 40]'),\n",
       " Text(31.885714285714286, 256.9745454545455, 'X[2] <= 0.5\\ngini = 0.073\\nsamples = 53\\nvalue = [51, 0, 2, 0]'),\n",
       " Text(21.257142857142856, 217.44, 'X[4] <= 1.5\\ngini = 0.278\\nsamples = 12\\nvalue = [10, 0, 2, 0]'),\n",
       " Text(10.628571428571428, 177.90545454545457, 'gini = 0.0\\nsamples = 8\\nvalue = [8, 0, 0, 0]'),\n",
       " Text(31.885714285714286, 177.90545454545457, 'X[3] <= 1.5\\ngini = 0.5\\nsamples = 4\\nvalue = [2, 0, 2, 0]'),\n",
       " Text(21.257142857142856, 138.3709090909091, 'gini = 0.0\\nsamples = 2\\nvalue = [2, 0, 0, 0]'),\n",
       " Text(42.51428571428571, 138.3709090909091, 'gini = 0.0\\nsamples = 2\\nvalue = [0, 0, 2, 0]'),\n",
       " Text(42.51428571428571, 217.44, 'gini = 0.0\\nsamples = 41\\nvalue = [41, 0, 0, 0]'),\n",
       " Text(201.94285714285712, 256.9745454545455, 'X[0] <= 2.5\\ngini = 0.707\\nsamples = 141\\nvalue = [57, 21, 23, 40]'),\n",
       " Text(154.1142857142857, 217.44, 'X[4] <= 1.5\\ngini = 0.676\\nsamples = 92\\nvalue = [26, 21, 5, 40]'),\n",
       " Text(90.34285714285714, 177.90545454545457, 'X[1] <= 0.5\\ngini = 0.481\\nsamples = 59\\nvalue = [13, 6, 0, 40]'),\n",
       " Text(63.77142857142857, 138.3709090909091, 'X[0] <= 1.5\\ngini = 0.491\\nsamples = 23\\nvalue = [13, 0, 0, 10]'),\n",
       " Text(53.14285714285714, 98.83636363636367, 'X[4] <= 0.5\\ngini = 0.355\\nsamples = 13\\nvalue = [3, 0, 0, 10]'),\n",
       " Text(42.51428571428571, 59.30181818181819, 'gini = 0.0\\nsamples = 8\\nvalue = [0, 0, 0, 8]'),\n",
       " Text(63.77142857142857, 59.30181818181819, 'X[2] <= 2.0\\ngini = 0.48\\nsamples = 5\\nvalue = [3, 0, 0, 2]'),\n",
       " Text(53.14285714285714, 19.76727272727277, 'gini = 0.0\\nsamples = 3\\nvalue = [3, 0, 0, 0]'),\n",
       " Text(74.39999999999999, 19.76727272727277, 'gini = 0.0\\nsamples = 2\\nvalue = [0, 0, 0, 2]'),\n",
       " Text(74.39999999999999, 98.83636363636367, 'gini = 0.0\\nsamples = 10\\nvalue = [10, 0, 0, 0]'),\n",
       " Text(116.91428571428571, 138.3709090909091, 'X[2] <= 0.5\\ngini = 0.278\\nsamples = 36\\nvalue = [0, 6, 0, 30]'),\n",
       " Text(95.65714285714286, 98.83636363636367, 'X[4] <= 0.5\\ngini = 0.5\\nsamples = 10\\nvalue = [0, 5, 0, 5]'),\n",
       " Text(85.02857142857142, 59.30181818181819, 'gini = 0.0\\nsamples = 5\\nvalue = [0, 0, 0, 5]'),\n",
       " Text(106.28571428571428, 59.30181818181819, 'gini = 0.0\\nsamples = 5\\nvalue = [0, 5, 0, 0]'),\n",
       " Text(138.17142857142858, 98.83636363636367, 'X[2] <= 1.5\\ngini = 0.074\\nsamples = 26\\nvalue = [0, 1, 0, 25]'),\n",
       " Text(127.54285714285714, 59.30181818181819, 'X[0] <= 1.5\\ngini = 0.219\\nsamples = 8\\nvalue = [0, 1, 0, 7]'),\n",
       " Text(116.91428571428571, 19.76727272727277, 'gini = 0.444\\nsamples = 3\\nvalue = [0, 1, 0, 2]'),\n",
       " Text(138.17142857142858, 19.76727272727277, 'gini = 0.0\\nsamples = 5\\nvalue = [0, 0, 0, 5]'),\n",
       " Text(148.79999999999998, 59.30181818181819, 'gini = 0.0\\nsamples = 18\\nvalue = [0, 0, 0, 18]'),\n",
       " Text(217.88571428571427, 177.90545454545457, 'X[1] <= 0.5\\ngini = 0.615\\nsamples = 33\\nvalue = [13, 15, 5, 0]'),\n",
       " Text(191.31428571428572, 138.3709090909091, 'X[2] <= 0.5\\ngini = 0.165\\nsamples = 11\\nvalue = [10, 0, 1, 0]'),\n",
       " Text(180.68571428571428, 98.83636363636367, 'X[3] <= 1.5\\ngini = 0.5\\nsamples = 2\\nvalue = [1, 0, 1, 0]'),\n",
       " Text(170.05714285714285, 59.30181818181819, 'gini = 0.0\\nsamples = 1\\nvalue = [1, 0, 0, 0]'),\n",
       " Text(191.31428571428572, 59.30181818181819, 'gini = 0.0\\nsamples = 1\\nvalue = [0, 0, 1, 0]'),\n",
       " Text(201.94285714285712, 98.83636363636367, 'gini = 0.0\\nsamples = 9\\nvalue = [9, 0, 0, 0]'),\n",
       " Text(244.45714285714286, 138.3709090909091, 'X[2] <= 0.5\\ngini = 0.483\\nsamples = 22\\nvalue = [3, 15, 4, 0]'),\n",
       " Text(223.2, 98.83636363636367, 'X[3] <= 1.5\\ngini = 0.49\\nsamples = 7\\nvalue = [0, 3, 4, 0]'),\n",
       " Text(212.57142857142856, 59.30181818181819, 'gini = 0.0\\nsamples = 3\\nvalue = [0, 3, 0, 0]'),\n",
       " Text(233.82857142857142, 59.30181818181819, 'gini = 0.0\\nsamples = 4\\nvalue = [0, 0, 4, 0]'),\n",
       " Text(265.7142857142857, 98.83636363636367, 'X[0] <= 1.5\\ngini = 0.32\\nsamples = 15\\nvalue = [3, 12, 0, 0]'),\n",
       " Text(255.0857142857143, 59.30181818181819, 'gini = 0.0\\nsamples = 9\\nvalue = [0, 9, 0, 0]'),\n",
       " Text(276.34285714285716, 59.30181818181819, 'X[1] <= 1.5\\ngini = 0.5\\nsamples = 6\\nvalue = [3, 3, 0, 0]'),\n",
       " Text(265.7142857142857, 19.76727272727277, 'gini = 0.0\\nsamples = 3\\nvalue = [0, 3, 0, 0]'),\n",
       " Text(286.97142857142853, 19.76727272727277, 'gini = 0.0\\nsamples = 3\\nvalue = [3, 0, 0, 0]'),\n",
       " Text(249.77142857142857, 217.44, 'X[1] <= 0.5\\ngini = 0.465\\nsamples = 49\\nvalue = [31, 0, 18, 0]'),\n",
       " Text(239.14285714285714, 177.90545454545457, 'gini = 0.0\\nsamples = 18\\nvalue = [0, 0, 18, 0]'),\n",
       " Text(260.4, 177.90545454545457, 'gini = 0.0\\nsamples = 31\\nvalue = [31, 0, 0, 0]'),\n",
       " Text(297.59999999999997, 296.5090909090909, 'X[0] <= 2.5\\ngini = 0.495\\nsamples = 69\\nvalue = [31, 0, 38, 0]'),\n",
       " Text(286.97142857142853, 256.9745454545455, 'X[0] <= 0.5\\ngini = 0.471\\nsamples = 50\\nvalue = [31, 0, 19, 0]'),\n",
       " Text(276.34285714285716, 217.44, 'gini = 0.0\\nsamples = 17\\nvalue = [0, 0, 17, 0]'),\n",
       " Text(297.59999999999997, 217.44, 'X[2] <= 0.5\\ngini = 0.114\\nsamples = 33\\nvalue = [31, 0, 2, 0]'),\n",
       " Text(286.97142857142853, 177.90545454545457, 'X[4] <= 1.5\\ngini = 0.408\\nsamples = 7\\nvalue = [5, 0, 2, 0]'),\n",
       " Text(276.34285714285716, 138.3709090909091, 'gini = 0.0\\nsamples = 4\\nvalue = [4, 0, 0, 0]'),\n",
       " Text(297.59999999999997, 138.3709090909091, 'X[3] <= 1.5\\ngini = 0.444\\nsamples = 3\\nvalue = [1, 0, 2, 0]'),\n",
       " Text(286.97142857142853, 98.83636363636367, 'gini = 0.0\\nsamples = 1\\nvalue = [1, 0, 0, 0]'),\n",
       " Text(308.2285714285714, 98.83636363636367, 'gini = 0.0\\nsamples = 2\\nvalue = [0, 0, 2, 0]'),\n",
       " Text(308.2285714285714, 177.90545454545457, 'gini = 0.0\\nsamples = 26\\nvalue = [26, 0, 0, 0]'),\n",
       " Text(308.2285714285714, 256.9745454545455, 'gini = 0.0\\nsamples = 19\\nvalue = [0, 0, 19, 0]'),\n",
       " Text(543.0535714285714, 336.0436363636364, 'X[5] <= 1.5\\ngini = 0.425\\nsamples = 519\\nvalue = [116, 28, 375, 0]'),\n",
       " Text(532.425, 296.5090909090909, 'gini = 0.0\\nsamples = 257\\nvalue = [0, 0, 257, 0]'),\n",
       " Text(553.6821428571428, 296.5090909090909, 'X[4] <= 1.5\\ngini = 0.59\\nsamples = 262\\nvalue = [116, 28, 118, 0]'),\n",
       " Text(469.65, 256.9745454545455, 'X[0] <= 2.5\\ngini = 0.596\\nsamples = 170\\nvalue = [91, 28, 51, 0]'),\n",
       " Text(386.6142857142857, 217.44, 'X[0] <= 0.5\\ngini = 0.566\\nsamples = 125\\nvalue = [74, 28, 23, 0]'),\n",
       " Text(350.74285714285713, 177.90545454545457, 'X[1] <= 2.5\\ngini = 0.482\\nsamples = 42\\nvalue = [25, 0, 17, 0]'),\n",
       " Text(340.1142857142857, 138.3709090909091, 'X[2] <= 1.5\\ngini = 0.342\\nsamples = 32\\nvalue = [25, 0, 7, 0]'),\n",
       " Text(329.48571428571427, 98.83636363636367, 'X[4] <= 0.5\\ngini = 0.492\\nsamples = 16\\nvalue = [9, 0, 7, 0]'),\n",
       " Text(318.85714285714283, 59.30181818181819, 'gini = 0.0\\nsamples = 7\\nvalue = [7, 0, 0, 0]'),\n",
       " Text(340.1142857142857, 59.30181818181819, 'X[3] <= 1.5\\ngini = 0.346\\nsamples = 9\\nvalue = [2, 0, 7, 0]'),\n",
       " Text(329.48571428571427, 19.76727272727277, 'gini = 0.0\\nsamples = 6\\nvalue = [0, 0, 6, 0]'),\n",
       " Text(350.74285714285713, 19.76727272727277, 'gini = 0.444\\nsamples = 3\\nvalue = [2, 0, 1, 0]'),\n",
       " Text(350.74285714285713, 98.83636363636367, 'gini = 0.0\\nsamples = 16\\nvalue = [16, 0, 0, 0]'),\n",
       " Text(361.37142857142857, 138.3709090909091, 'gini = 0.0\\nsamples = 10\\nvalue = [0, 0, 10, 0]'),\n",
       " Text(422.48571428571427, 177.90545454545457, 'X[1] <= 0.5\\ngini = 0.532\\nsamples = 83\\nvalue = [49, 28, 6, 0]'),\n",
       " Text(382.62857142857143, 138.3709090909091, 'X[4] <= 0.5\\ngini = 0.165\\nsamples = 22\\nvalue = [20, 0, 2, 0]'),\n",
       " Text(372.0, 98.83636363636367, 'gini = 0.0\\nsamples = 12\\nvalue = [12, 0, 0, 0]'),\n",
       " Text(393.25714285714287, 98.83636363636367, 'X[2] <= 1.5\\ngini = 0.32\\nsamples = 10\\nvalue = [8, 0, 2, 0]'),\n",
       " Text(382.62857142857143, 59.30181818181819, 'X[0] <= 1.5\\ngini = 0.48\\nsamples = 5\\nvalue = [3, 0, 2, 0]'),\n",
       " Text(372.0, 19.76727272727277, 'gini = 0.0\\nsamples = 2\\nvalue = [2, 0, 0, 0]'),\n",
       " Text(393.25714285714287, 19.76727272727277, 'gini = 0.444\\nsamples = 3\\nvalue = [1, 0, 2, 0]'),\n",
       " Text(403.88571428571424, 59.30181818181819, 'gini = 0.0\\nsamples = 5\\nvalue = [5, 0, 0, 0]'),\n",
       " Text(462.3428571428571, 138.3709090909091, 'X[1] <= 1.5\\ngini = 0.559\\nsamples = 61\\nvalue = [29, 28, 4, 0]'),\n",
       " Text(435.77142857142854, 98.83636363636367, 'X[2] <= 0.5\\ngini = 0.091\\nsamples = 21\\nvalue = [1, 20, 0, 0]'),\n",
       " Text(425.1428571428571, 59.30181818181819, 'X[4] <= 0.5\\ngini = 0.32\\nsamples = 5\\nvalue = [1, 4, 0, 0]'),\n",
       " Text(414.5142857142857, 19.76727272727277, 'gini = 0.0\\nsamples = 4\\nvalue = [0, 4, 0, 0]'),\n",
       " Text(435.77142857142854, 19.76727272727277, 'gini = 0.0\\nsamples = 1\\nvalue = [1, 0, 0, 0]'),\n",
       " Text(446.4, 59.30181818181819, 'gini = 0.0\\nsamples = 16\\nvalue = [0, 16, 0, 0]'),\n",
       " Text(488.9142857142857, 98.83636363636367, 'X[0] <= 1.5\\ngini = 0.46\\nsamples = 40\\nvalue = [28, 8, 4, 0]'),\n",
       " Text(467.65714285714284, 59.30181818181819, 'X[1] <= 2.5\\ngini = 0.555\\nsamples = 16\\nvalue = [7, 8, 1, 0]'),\n",
       " Text(457.0285714285714, 19.76727272727277, 'gini = 0.0\\nsamples = 8\\nvalue = [0, 8, 0, 0]'),\n",
       " Text(478.2857142857143, 19.76727272727277, 'gini = 0.219\\nsamples = 8\\nvalue = [7, 0, 1, 0]'),\n",
       " Text(510.1714285714286, 59.30181818181819, 'X[1] <= 2.5\\ngini = 0.219\\nsamples = 24\\nvalue = [21, 0, 3, 0]'),\n",
       " Text(499.54285714285714, 19.76727272727277, 'gini = 0.0\\nsamples = 14\\nvalue = [14, 0, 0, 0]'),\n",
       " Text(520.8, 19.76727272727277, 'gini = 0.42\\nsamples = 10\\nvalue = [7, 0, 3, 0]'),\n",
       " Text(552.6857142857143, 217.44, 'X[1] <= 0.5\\ngini = 0.47\\nsamples = 45\\nvalue = [17, 0, 28, 0]'),\n",
       " Text(542.0571428571428, 177.90545454545457, 'gini = 0.0\\nsamples = 11\\nvalue = [0, 0, 11, 0]'),\n",
       " Text(563.3142857142857, 177.90545454545457, 'X[1] <= 2.5\\ngini = 0.5\\nsamples = 34\\nvalue = [17, 0, 17, 0]'),\n",
       " Text(552.6857142857143, 138.3709090909091, 'X[4] <= 0.5\\ngini = 0.386\\nsamples = 23\\nvalue = [17, 0, 6, 0]'),\n",
       " Text(542.0571428571428, 98.83636363636367, 'gini = 0.0\\nsamples = 11\\nvalue = [11, 0, 0, 0]'),\n",
       " Text(563.3142857142857, 98.83636363636367, 'X[2] <= 1.5\\ngini = 0.5\\nsamples = 12\\nvalue = [6, 0, 6, 0]'),\n",
       " Text(552.6857142857143, 59.30181818181819, 'X[3] <= 1.5\\ngini = 0.245\\nsamples = 7\\nvalue = [1, 0, 6, 0]'),\n",
       " Text(542.0571428571428, 19.76727272727277, 'gini = 0.0\\nsamples = 4\\nvalue = [0, 0, 4, 0]'),\n",
       " Text(563.3142857142857, 19.76727272727277, 'gini = 0.444\\nsamples = 3\\nvalue = [1, 0, 2, 0]'),\n",
       " Text(573.9428571428571, 59.30181818181819, 'gini = 0.0\\nsamples = 5\\nvalue = [5, 0, 0, 0]'),\n",
       " Text(573.9428571428571, 138.3709090909091, 'gini = 0.0\\nsamples = 11\\nvalue = [0, 0, 11, 0]'),\n",
       " Text(637.7142857142857, 256.9745454545455, 'X[0] <= 0.5\\ngini = 0.396\\nsamples = 92\\nvalue = [25, 0, 67, 0]'),\n",
       " Text(627.0857142857143, 217.44, 'gini = 0.0\\nsamples = 24\\nvalue = [0, 0, 24, 0]'),\n",
       " Text(648.3428571428572, 217.44, 'X[0] <= 2.5\\ngini = 0.465\\nsamples = 68\\nvalue = [25, 0, 43, 0]'),\n",
       " Text(637.7142857142857, 177.90545454545457, 'X[1] <= 2.5\\ngini = 0.496\\nsamples = 46\\nvalue = [25, 0, 21, 0]'),\n",
       " Text(627.0857142857143, 138.3709090909091, 'X[1] <= 0.5\\ngini = 0.389\\nsamples = 34\\nvalue = [25, 0, 9, 0]'),\n",
       " Text(605.8285714285714, 98.83636363636367, 'X[0] <= 1.5\\ngini = 0.48\\nsamples = 10\\nvalue = [4, 0, 6, 0]'),\n",
       " Text(595.1999999999999, 59.30181818181819, 'X[2] <= 0.5\\ngini = 0.32\\nsamples = 5\\nvalue = [4, 0, 1, 0]'),\n",
       " Text(584.5714285714286, 19.76727272727277, 'gini = 0.0\\nsamples = 1\\nvalue = [0, 0, 1, 0]'),\n",
       " Text(605.8285714285714, 19.76727272727277, 'gini = 0.0\\nsamples = 4\\nvalue = [4, 0, 0, 0]'),\n",
       " Text(616.4571428571428, 59.30181818181819, 'gini = 0.0\\nsamples = 5\\nvalue = [0, 0, 5, 0]'),\n",
       " Text(648.3428571428572, 98.83636363636367, 'X[2] <= 0.5\\ngini = 0.219\\nsamples = 24\\nvalue = [21, 0, 3, 0]'),\n",
       " Text(637.7142857142857, 59.30181818181819, 'X[3] <= 1.5\\ngini = 0.5\\nsamples = 6\\nvalue = [3, 0, 3, 0]'),\n",
       " Text(627.0857142857143, 19.76727272727277, 'gini = 0.0\\nsamples = 3\\nvalue = [3, 0, 0, 0]'),\n",
       " Text(648.3428571428572, 19.76727272727277, 'gini = 0.0\\nsamples = 3\\nvalue = [0, 0, 3, 0]'),\n",
       " Text(658.9714285714285, 59.30181818181819, 'gini = 0.0\\nsamples = 18\\nvalue = [18, 0, 0, 0]'),\n",
       " Text(648.3428571428572, 138.3709090909091, 'gini = 0.0\\nsamples = 12\\nvalue = [0, 0, 12, 0]'),\n",
       " Text(658.9714285714285, 177.90545454545457, 'gini = 0.0\\nsamples = 22\\nvalue = [0, 0, 22, 0]')]"
      ]
     },
     "execution_count": 118,
     "metadata": {},
     "output_type": "execute_result"
    },
    {
     "data": {
      "image/png": "[encoded data removed]",
      "text/plain": [
       "<Figure size 864x576 with 1 Axes>"
      ]
     },
     "metadata": {
      "needs_background": "light"
     },
     "output_type": "display_data"
    }
   ],
   "source": [
    "plt.figure(figsize=(12,8))\n",
    "tree.plot_tree(model_1.fit(x_train, y_train)) "
   ]
  },
  {
   "cell_type": "code",
   "execution_count": null,
   "id": "3008ca39",
   "metadata": {},
   "outputs": [],
   "source": []
  },
  {
   "cell_type": "code",
   "execution_count": null,
   "id": "738674ee",
   "metadata": {},
   "outputs": [],
   "source": []
  }
 ],
 "metadata": {
  "kernelspec": {
   "display_name": "Python 3",
   "language": "python",
   "name": "python3"
  },
  "language_info": {
   "codemirror_mode": {
    "name": "ipython",
    "version": 3
   },
   "file_extension": ".py",
   "mimetype": "text/x-python",
   "name": "python",
   "nbconvert_exporter": "python",
   "pygments_lexer": "ipython3",
   "version": "3.8.10"
  }
 },
 "nbformat": 4,
 "nbformat_minor": 5
}
